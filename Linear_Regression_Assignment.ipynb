{
  "cells": [
    {
      "cell_type": "code",
      "execution_count": null,
      "metadata": {
        "id": "WffYPSG8OhWZ"
      },
      "outputs": [],
      "source": [
        "import numpy as np\n",
        "import pandas as pd"
      ]
    },
    {
      "cell_type": "code",
      "execution_count": null,
      "metadata": {
        "colab": {
          "base_uri": "https://localhost:8080/",
          "height": 206
        },
        "id": "65q-dTfqaoMg",
        "outputId": "ed1b0025-5f63-4ba4-fac8-8785e7d9d32e"
      },
      "outputs": [
        {
          "data": {
            "text/html": [
              "\n",
              "  <div id=\"df-53e8049f-a610-429b-b686-6557d50f786f\">\n",
              "    <div class=\"colab-df-container\">\n",
              "      <div>\n",
              "<style scoped>\n",
              "    .dataframe tbody tr th:only-of-type {\n",
              "        vertical-align: middle;\n",
              "    }\n",
              "\n",
              "    .dataframe tbody tr th {\n",
              "        vertical-align: top;\n",
              "    }\n",
              "\n",
              "    .dataframe thead th {\n",
              "        text-align: right;\n",
              "    }\n",
              "</style>\n",
              "<table border=\"1\" class=\"dataframe\">\n",
              "  <thead>\n",
              "    <tr style=\"text-align: right;\">\n",
              "      <th></th>\n",
              "      <th>YearsExperience</th>\n",
              "      <th>Salary(thousand)</th>\n",
              "    </tr>\n",
              "  </thead>\n",
              "  <tbody>\n",
              "    <tr>\n",
              "      <th>0</th>\n",
              "      <td>1.1</td>\n",
              "      <td>39</td>\n",
              "    </tr>\n",
              "    <tr>\n",
              "      <th>1</th>\n",
              "      <td>1.3</td>\n",
              "      <td>46</td>\n",
              "    </tr>\n",
              "    <tr>\n",
              "      <th>2</th>\n",
              "      <td>1.5</td>\n",
              "      <td>37</td>\n",
              "    </tr>\n",
              "    <tr>\n",
              "      <th>3</th>\n",
              "      <td>2.0</td>\n",
              "      <td>43</td>\n",
              "    </tr>\n",
              "    <tr>\n",
              "      <th>4</th>\n",
              "      <td>2.2</td>\n",
              "      <td>39</td>\n",
              "    </tr>\n",
              "  </tbody>\n",
              "</table>\n",
              "</div>\n",
              "      <button class=\"colab-df-convert\" onclick=\"convertToInteractive('df-53e8049f-a610-429b-b686-6557d50f786f')\"\n",
              "              title=\"Convert this dataframe to an interactive table.\"\n",
              "              style=\"display:none;\">\n",
              "        \n",
              "  <svg xmlns=\"http://www.w3.org/2000/svg\" height=\"24px\"viewBox=\"0 0 24 24\"\n",
              "       width=\"24px\">\n",
              "    <path d=\"M0 0h24v24H0V0z\" fill=\"none\"/>\n",
              "    <path d=\"M18.56 5.44l.94 2.06.94-2.06 2.06-.94-2.06-.94-.94-2.06-.94 2.06-2.06.94zm-11 1L8.5 8.5l.94-2.06 2.06-.94-2.06-.94L8.5 2.5l-.94 2.06-2.06.94zm10 10l.94 2.06.94-2.06 2.06-.94-2.06-.94-.94-2.06-.94 2.06-2.06.94z\"/><path d=\"M17.41 7.96l-1.37-1.37c-.4-.4-.92-.59-1.43-.59-.52 0-1.04.2-1.43.59L10.3 9.45l-7.72 7.72c-.78.78-.78 2.05 0 2.83L4 21.41c.39.39.9.59 1.41.59.51 0 1.02-.2 1.41-.59l7.78-7.78 2.81-2.81c.8-.78.8-2.07 0-2.86zM5.41 20L4 18.59l7.72-7.72 1.47 1.35L5.41 20z\"/>\n",
              "  </svg>\n",
              "      </button>\n",
              "      \n",
              "  <style>\n",
              "    .colab-df-container {\n",
              "      display:flex;\n",
              "      flex-wrap:wrap;\n",
              "      gap: 12px;\n",
              "    }\n",
              "\n",
              "    .colab-df-convert {\n",
              "      background-color: #E8F0FE;\n",
              "      border: none;\n",
              "      border-radius: 50%;\n",
              "      cursor: pointer;\n",
              "      display: none;\n",
              "      fill: #1967D2;\n",
              "      height: 32px;\n",
              "      padding: 0 0 0 0;\n",
              "      width: 32px;\n",
              "    }\n",
              "\n",
              "    .colab-df-convert:hover {\n",
              "      background-color: #E2EBFA;\n",
              "      box-shadow: 0px 1px 2px rgba(60, 64, 67, 0.3), 0px 1px 3px 1px rgba(60, 64, 67, 0.15);\n",
              "      fill: #174EA6;\n",
              "    }\n",
              "\n",
              "    [theme=dark] .colab-df-convert {\n",
              "      background-color: #3B4455;\n",
              "      fill: #D2E3FC;\n",
              "    }\n",
              "\n",
              "    [theme=dark] .colab-df-convert:hover {\n",
              "      background-color: #434B5C;\n",
              "      box-shadow: 0px 1px 3px 1px rgba(0, 0, 0, 0.15);\n",
              "      filter: drop-shadow(0px 1px 2px rgba(0, 0, 0, 0.3));\n",
              "      fill: #FFFFFF;\n",
              "    }\n",
              "  </style>\n",
              "\n",
              "      <script>\n",
              "        const buttonEl =\n",
              "          document.querySelector('#df-53e8049f-a610-429b-b686-6557d50f786f button.colab-df-convert');\n",
              "        buttonEl.style.display =\n",
              "          google.colab.kernel.accessAllowed ? 'block' : 'none';\n",
              "\n",
              "        async function convertToInteractive(key) {\n",
              "          const element = document.querySelector('#df-53e8049f-a610-429b-b686-6557d50f786f');\n",
              "          const dataTable =\n",
              "            await google.colab.kernel.invokeFunction('convertToInteractive',\n",
              "                                                     [key], {});\n",
              "          if (!dataTable) return;\n",
              "\n",
              "          const docLinkHtml = 'Like what you see? Visit the ' +\n",
              "            '<a target=\"_blank\" href=https://colab.research.google.com/notebooks/data_table.ipynb>data table notebook</a>'\n",
              "            + ' to learn more about interactive tables.';\n",
              "          element.innerHTML = '';\n",
              "          dataTable['output_type'] = 'display_data';\n",
              "          await google.colab.output.renderOutput(dataTable, element);\n",
              "          const docLink = document.createElement('div');\n",
              "          docLink.innerHTML = docLinkHtml;\n",
              "          element.appendChild(docLink);\n",
              "        }\n",
              "      </script>\n",
              "    </div>\n",
              "  </div>\n",
              "  "
            ],
            "text/plain": [
              "   YearsExperience  Salary(thousand)\n",
              "0              1.1                39\n",
              "1              1.3                46\n",
              "2              1.5                37\n",
              "3              2.0                43\n",
              "4              2.2                39"
            ]
          },
          "execution_count": 14,
          "metadata": {},
          "output_type": "execute_result"
        }
      ],
      "source": [
        "df = pd.read_csv('LR.csv')\n",
        "df.head()"
      ]
    },
    {
      "cell_type": "code",
      "execution_count": null,
      "metadata": {
        "colab": {
          "base_uri": "https://localhost:8080/"
        },
        "id": "s-lTDNtRaofD",
        "outputId": "ea8ff0b5-e940-4dd0-b55e-12fceaacf87d"
      },
      "outputs": [
        {
          "data": {
            "text/plain": [
              "(5.3133333333333335, 75.5)"
            ]
          },
          "execution_count": 15,
          "metadata": {},
          "output_type": "execute_result"
        }
      ],
      "source": [
        "mean_yoe = sum(df['YearsExperience']) / float(len(df['YearsExperience']))\n",
        "mean_salary = sum(df['Salary(thousand)']) / float(len(df['Salary(thousand)']))\n",
        "mean_yoe,mean_salary"
      ]
    },
    {
      "cell_type": "code",
      "execution_count": null,
      "metadata": {
        "colab": {
          "base_uri": "https://localhost:8080/"
        },
        "id": "MChmDvq-aoxr",
        "outputId": "5671c2c3-8054-4ed7-e460-366e67425a9d"
      },
      "outputs": [
        {
          "data": {
            "text/plain": [
              "(233.55466666666663, 21695.5)"
            ]
          },
          "execution_count": 16,
          "metadata": {},
          "output_type": "execute_result"
        }
      ],
      "source": [
        "def variance(values, mean):\n",
        "    return sum([(val-mean)**2 for val in values])\n",
        "variance_yoe, variance_salary = variance(df['YearsExperience'], mean_yoe), variance(df['Salary(thousand)'], mean_salary)\n",
        "variance_yoe , variance_salary"
      ]
    },
    {
      "cell_type": "code",
      "execution_count": null,
      "metadata": {
        "colab": {
          "base_uri": "https://localhost:8080/"
        },
        "id": "BZIJdA33apWD",
        "outputId": "c8c70158-eda2-48fe-b5de-be12cde09fb0"
      },
      "outputs": [
        {
          "data": {
            "text/plain": [
              "2201.5"
            ]
          },
          "execution_count": 17,
          "metadata": {},
          "output_type": "execute_result"
        }
      ],
      "source": [
        "def covariance(yearsexperience, mean_yoe, salary , mean_salary):\n",
        "    covariance = 0.0\n",
        "    for i in range(len(yearsexperience)):\n",
        "        covariance = covariance + (yearsexperience[i] - mean_yoe) * (salary[i] - mean_salary)\n",
        "    return covariance\n",
        "covariance_yoe_salary = covariance(df['YearsExperience'],mean_yoe,df['Salary(thousand)'],mean_salary)\n",
        "covariance_yoe_salary"
      ]
    },
    {
      "cell_type": "code",
      "execution_count": null,
      "metadata": {
        "colab": {
          "base_uri": "https://localhost:8080/"
        },
        "id": "sfrELnkwdse0",
        "outputId": "31b04798-42f9-4206-b80a-0620d54a9897"
      },
      "outputs": [
        {
          "data": {
            "text/plain": [
              "(9.426058710023636, 25.416208054074417)"
            ]
          },
          "execution_count": 18,
          "metadata": {},
          "output_type": "execute_result"
        }
      ],
      "source": [
        "m = covariance_yoe_salary/ variance_yoe\n",
        "c = mean_salary - m * mean_yoe\n",
        "m,c"
      ]
    },
    {
      "cell_type": "code",
      "execution_count": null,
      "metadata": {
        "colab": {
          "base_uri": "https://localhost:8080/"
        },
        "id": "y_0cDiPodxPz",
        "outputId": "7761e023-6a45-4dba-f0a3-812ee5267445"
      },
      "outputs": [
        {
          "data": {
            "text/plain": [
              "[35.78,\n",
              " 37.67,\n",
              " 39.56,\n",
              " 44.27,\n",
              " 46.15,\n",
              " 52.75,\n",
              " 53.69,\n",
              " 55.58,\n",
              " 55.58,\n",
              " 60.29,\n",
              " 62.18,\n",
              " 63.12,\n",
              " 63.12,\n",
              " 64.06,\n",
              " 67.83,\n",
              " 71.6,\n",
              " 73.49,\n",
              " 75.37,\n",
              " 81.03,\n",
              " 81.97,\n",
              " 89.51,\n",
              " 92.34,\n",
              " 99.88,\n",
              " 102.71,\n",
              " 107.42,\n",
              " 110.25,\n",
              " 114.96,\n",
              " 115.91,\n",
              " 122.5,\n",
              " 124.39]"
            ]
          },
          "execution_count": 19,
          "metadata": {},
          "output_type": "execute_result"
        }
      ],
      "source": [
        "from numpy.ma.core import append\n",
        "salary_pred = []\n",
        "for i in df['YearsExperience']:\n",
        "  y_pred = round((m*i + c),2)\n",
        "  salary_pred.append(y_pred)\n",
        "salary_pred"
      ]
    },
    {
      "cell_type": "code",
      "execution_count": null,
      "metadata": {
        "colab": {
          "base_uri": "https://localhost:8080/"
        },
        "id": "O8c3WvT5hv0_",
        "outputId": "1f4ceb95-97b0-4513-d664-6a07557b6d30"
      },
      "outputs": [
        {
          "name": "stdout",
          "output_type": "stream",
          "text": [
            "21695.5\n"
          ]
        }
      ],
      "source": [
        "sst = 0\n",
        "for i in df['Salary(thousand)']:\n",
        "  q = (i - mean_salary)**2\n",
        "  sst += q\n",
        "print(sst)"
      ]
    },
    {
      "cell_type": "code",
      "execution_count": null,
      "metadata": {
        "colab": {
          "base_uri": "https://localhost:8080/"
        },
        "id": "bA95LrPKkXuq",
        "outputId": "8031365f-fb45-4e2a-c46a-9b2b2b1edefc"
      },
      "outputs": [
        {
          "name": "stdout",
          "output_type": "stream",
          "text": [
            "20751.139200000005\n"
          ]
        }
      ],
      "source": [
        "ssr = 0\n",
        "for i in salary_pred:\n",
        "  w = (i - mean_salary)**2\n",
        "  ssr += w\n",
        "print(ssr)"
      ]
    },
    {
      "cell_type": "code",
      "execution_count": null,
      "metadata": {
        "colab": {
          "base_uri": "https://localhost:8080/"
        },
        "id": "IIqvXbuWmL9x",
        "outputId": "a8244612-86a9-4248-b72d-d7c52dc81b0f"
      },
      "outputs": [
        {
          "data": {
            "text/plain": [
              "0.9564720425894773"
            ]
          },
          "execution_count": 22,
          "metadata": {},
          "output_type": "execute_result"
        }
      ],
      "source": [
        "r_sqr_m = ssr/sst\n",
        "r_sqr_m"
      ]
    },
    {
      "cell_type": "code",
      "execution_count": null,
      "metadata": {
        "colab": {
          "base_uri": "https://localhost:8080/",
          "height": 295
        },
        "id": "D_CBvwL--O8J",
        "outputId": "6634d1eb-e751-4c93-87aa-ee9c58a3f81b"
      },
      "outputs": [
        {
          "data": {
            "image/png": "[encoded data removed]",
            "text/plain": [
              "<Figure size 432x288 with 1 Axes>"
            ]
          },
          "metadata": {
            "needs_background": "light"
          },
          "output_type": "display_data"
        }
      ],
      "source": [
        "import matplotlib.pyplot as plt\n",
        "plt.scatter(df['YearsExperience'], df['Salary(thousand)'], color = \"red\")\n",
        "plt.plot(df['YearsExperience'], salary_pred, color = \"green\")\n",
        "plt.title(\"Salary vs Experience\")\n",
        "plt.xlabel(\"Years of Experience\")\n",
        "plt.ylabel(\"Salary\")\n",
        "plt.show()"
      ]
    },
    {
      "cell_type": "markdown",
      "metadata": {
        "id": "8-YsQkRe_xV6"
      },
      "source": [
        "FROM SK-LEARN"
      ]
    },
    {
      "cell_type": "code",
      "execution_count": null,
      "metadata": {
        "id": "K3aC5xPrB8Ub"
      },
      "outputs": [],
      "source": [
        "dataset = pd.read_csv('/content/drive/MyDrive/Pulkit Sir/Linear Regression/LR.csv')\n",
        "x = dataset.iloc[:, :-1].values\n",
        "y = dataset.iloc[:, 1].values"
      ]
    },
    {
      "cell_type": "code",
      "execution_count": null,
      "metadata": {
        "id": "a8hPVDW-CG9h"
      },
      "outputs": [],
      "source": [
        "from sklearn.model_selection import train_test_split\n",
        "x_train, x_test, y_train, y_test = train_test_split(x, y, test_size = 1/3)"
      ]
    },
    {
      "cell_type": "code",
      "execution_count": null,
      "metadata": {
        "id": "uWZfWSnxCKf3"
      },
      "outputs": [],
      "source": [
        "from sklearn.linear_model import LinearRegression\n",
        "lr = LinearRegression()"
      ]
    },
    {
      "cell_type": "code",
      "execution_count": null,
      "metadata": {
        "colab": {
          "base_uri": "https://localhost:8080/"
        },
        "id": "hpPpD4qcCOYs",
        "outputId": "dbab80d5-4c41-4064-e676-0a4dd0aa779d"
      },
      "outputs": [
        {
          "data": {
            "text/plain": [
              "LinearRegression()"
            ]
          },
          "execution_count": 27,
          "metadata": {},
          "output_type": "execute_result"
        }
      ],
      "source": [
        "lr.fit(x_train, y_train)"
      ]
    },
    {
      "cell_type": "code",
      "execution_count": null,
      "metadata": {
        "colab": {
          "base_uri": "https://localhost:8080/"
        },
        "id": "PN8iEfYQCRYS",
        "outputId": "d445b9e8-3214-40be-db6a-865560fc1cc9"
      },
      "outputs": [
        {
          "data": {
            "text/plain": [
              "array([ 53.25233033, 101.57316777,  72.76651468, 106.21940214,\n",
              "       113.65337713,  74.62500843, 122.94584587,  62.54479907,\n",
              "        88.56371154,  52.32308346])"
            ]
          },
          "execution_count": 28,
          "metadata": {},
          "output_type": "execute_result"
        }
      ],
      "source": [
        "y_pred = lr.predict(x_test)\n",
        "y_pred"
      ]
    },
    {
      "cell_type": "code",
      "execution_count": null,
      "metadata": {
        "colab": {
          "base_uri": "https://localhost:8080/"
        },
        "id": "GNfB7AoZCvTV",
        "outputId": "1f48997f-9f7a-448a-f1f2-d47cfb0b1f15"
      },
      "outputs": [
        {
          "data": {
            "text/plain": [
              "0.9408772569915976"
            ]
          },
          "execution_count": 29,
          "metadata": {},
          "output_type": "execute_result"
        }
      ],
      "source": [
        "from sklearn.metrics import r2_score\n",
        "r_sqr_s = r2_score(y_test, y_pred)\n",
        "r_sqr_s"
      ]
    },
    {
      "cell_type": "markdown",
      "metadata": {
        "id": "2R-LpDhkDQsu"
      },
      "source": [
        "Compairing R Square of both the Methods"
      ]
    },
    {
      "cell_type": "code",
      "execution_count": null,
      "metadata": {
        "colab": {
          "base_uri": "https://localhost:8080/"
        },
        "id": "3HtWgB4sDWrF",
        "outputId": "88f5261a-965c-4fca-c1a5-e1595e0b676a"
      },
      "outputs": [
        {
          "name": "stdout",
          "output_type": "stream",
          "text": [
            "R Score from manual formulation is: 0.9564720425894773\n",
            "R Score from Sklearn implementation is: 0.9408772569915976\n"
          ]
        }
      ],
      "source": [
        "print(\"R Score from manual formulation is:\", r_sqr_m)\n",
        "print(\"R Score from Sklearn implementation is:\", r_sqr_s)"
      ]
    }
  ],
  "metadata": {
    "colab": {
      "collapsed_sections": [],
      "name": "Linear Regression Assignment",
      "provenance": []
    },
    "kernelspec": {
      "display_name": "Python 3",
      "name": "python3"
    },
    "language_info": {
      "name": "python"
    }
  },
  "nbformat": 4,
  "nbformat_minor": 0
}
